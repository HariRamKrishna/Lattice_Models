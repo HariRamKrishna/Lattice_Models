{
  "nbformat": 4,
  "nbformat_minor": 0,
  "metadata": {
    "kernelspec": {
      "display_name": "Python 3",
      "language": "python",
      "name": "python3"
    },
    "language_info": {
      "codemirror_mode": {
        "name": "ipython",
        "version": 3
      },
      "file_extension": ".py",
      "mimetype": "text/x-python",
      "name": "python",
      "nbconvert_exporter": "python",
      "pygments_lexer": "ipython3",
      "version": "3.7.6"
    },
    "colab": {
      "name": " Izing3D-MarkovChain.ipynb",
      "provenance": [],
      "collapsed_sections": []
    },
    "accelerator": "TPU"
  },
  "cells": [
    {
      "cell_type": "markdown",
      "metadata": {
        "id": "CSL-C0OYdjPj"
      },
      "source": [
        "# Ising Model - 3D : Monte Carlo Simulation"
      ]
    },
    {
      "cell_type": "markdown",
      "metadata": {
        "id": "c9HIh-JrdjPq"
      },
      "source": [
        "First of all we import the required libraries:"
      ]
    },
    {
      "cell_type": "code",
      "metadata": {
        "id": "aUOnLBJJdjPt"
      },
      "source": [
        "import matplotlib.pyplot as plt\n",
        "import math as math\n",
        "import random as random\n",
        "import pylab as pylab\n",
        "import numpy as np\n",
        "import seaborn as sns\n",
        "sns.set()"
      ],
      "execution_count": 59,
      "outputs": []
    },
    {
      "cell_type": "markdown",
      "metadata": {
        "id": "l0q9uWV_djQI"
      },
      "source": [
        "### Global parameters"
      ]
    },
    {
      "cell_type": "markdown",
      "metadata": {
        "id": "bNEH3UT8djQL"
      },
      "source": [
        "Then we set some global variables:"
      ]
    },
    {
      "cell_type": "code",
      "metadata": {
        "id": "FynToEG3djQO"
      },
      "source": [
        "Kb = 1.0\n",
        "JJ = 1.0\n",
        "mu = 1.0"
      ],
      "execution_count": 60,
      "outputs": []
    },
    {
      "cell_type": "markdown",
      "metadata": {
        "id": "TORoUVsDdjQb"
      },
      "source": [
        "### Cold Start and Hot Start"
      ]
    },
    {
      "cell_type": "markdown",
      "metadata": {
        "id": "ADhgl13hdjQe"
      },
      "source": [
        "Before begining simulation, if we select all spin up or all spin down then it is called cold configuration."
      ]
    },
    {
      "cell_type": "code",
      "metadata": {
        "id": "ufDqAODidjQg"
      },
      "source": [
        "def cold_start(L):\n",
        "    U = [[[1.0 for k in range(L)]for l in range(L)] for r in range(L)]\n",
        "    return U   "
      ],
      "execution_count": 61,
      "outputs": []
    },
    {
      "cell_type": "markdown",
      "metadata": {
        "id": "vr9q2w0VdjQ7"
      },
      "source": [
        "We can make a plot of this cold configuration by the help of Uplotter :"
      ]
    },
    {
      "cell_type": "code",
      "metadata": {
        "id": "Bc4mA8q1djQ-"
      },
      "source": [
        "CU = cold_start(10)"
      ],
      "execution_count": 62,
      "outputs": []
    },
    {
      "cell_type": "markdown",
      "metadata": {
        "id": "pdQ37Y4ZdjRJ"
      },
      "source": [
        " if we select spin randomly up or down then it is called cold configuration"
      ]
    },
    {
      "cell_type": "code",
      "metadata": {
        "id": "D61E3-w8djRK"
      },
      "source": [
        "def hot_start(L): \n",
        "    U = [[[0.0 for i in range(L)]for j in range(L)]for r in range(L)]\n",
        "    for i in range(L):\n",
        "          for j in range(L):\n",
        "                for r in range(L):\n",
        "                    t = random.sample([-1,1],1)\n",
        "                    U[i][j][r] = t[0]  \n",
        "    return U "
      ],
      "execution_count": 63,
      "outputs": []
    },
    {
      "cell_type": "markdown",
      "metadata": {
        "id": "S_Nzw1LzdjRT"
      },
      "source": [
        "Similarly we can plot thishot configuration as well."
      ]
    },
    {
      "cell_type": "code",
      "metadata": {
        "id": "IwPXFDK1djRV"
      },
      "source": [
        "HU = hot_start(10)\n"
      ],
      "execution_count": 64,
      "outputs": []
    },
    {
      "cell_type": "markdown",
      "metadata": {
        "id": "D1TSo_35djRc"
      },
      "source": [
        "### Hamiltonian"
      ]
    },
    {
      "cell_type": "markdown",
      "metadata": {
        "id": "4NFlmU4jdjRe"
      },
      "source": [
        "Hamiltonian of  L by L lattice is given by"
      ]
    },
    {
      "cell_type": "markdown",
      "metadata": {
        "id": "Du4mEYUYdjRg"
      },
      "source": [
        "\\\\( H = - J \\sum_{i\\neq j} S_{i}S_{j} - \\mu B \\sum_{i} S_{i} \\\\)"
      ]
    },
    {
      "cell_type": "code",
      "metadata": {
        "id": "Ok2Z_fQXdjRi"
      },
      "source": [
        "def Hamiltonian(U,B):\n",
        "    H = 0.0\n",
        "    L = len(U)\n",
        "    for i in range(L):\n",
        "        for j in range(L):\n",
        "            for r in range(L):\n",
        "                \n",
        "                ni = 0;nj =0;nr=0;\n",
        "                if i == 0: ni = L\n",
        "                if j == 0: nj = L\n",
        "                if r == 0: nr=L\n",
        "           \n",
        "                H = H -  0.5*JJ*U[i][j][r]*(U[i][(j-1)+nj][r] \\\n",
        "                            + U[(i+1)%L][j][r] \\\n",
        "                            + U[i][(j+1)%L][r] \\\n",
        "                            + U[(i-1)+ni][j][r] \\\n",
        "                            + U[i][j][(r+1)%L] \\\n",
        "                            + U[i][j][(r-1)+nr]) \\\n",
        "                            - mu*B*U[i][j][r]\n",
        "    return H"
      ],
      "execution_count": 65,
      "outputs": []
    },
    {
      "cell_type": "markdown",
      "metadata": {
        "id": "Qt0VzZzbdjRu"
      },
      "source": [
        "One can check what are hamiltonian for hot and cold start:"
      ]
    },
    {
      "cell_type": "code",
      "metadata": {
        "id": "m-ypU5gidjRw",
        "outputId": "92f20ced-f707-4289-fde3-96a7ff181908",
        "colab": {
          "base_uri": "https://localhost:8080/"
        }
      },
      "source": [
        "Hamiltonian(CU, B=1)"
      ],
      "execution_count": 66,
      "outputs": [
        {
          "output_type": "execute_result",
          "data": {
            "text/plain": [
              "-4000.0"
            ]
          },
          "metadata": {
            "tags": []
          },
          "execution_count": 66
        }
      ]
    },
    {
      "cell_type": "code",
      "metadata": {
        "id": "nvYMQbQAdjR6",
        "outputId": "33d2b1a2-1dd8-4dbf-ce73-9ed8dc78a5ce",
        "colab": {
          "base_uri": "https://localhost:8080/"
        }
      },
      "source": [
        "Hamiltonian(HU, B=0)"
      ],
      "execution_count": 67,
      "outputs": [
        {
          "output_type": "execute_result",
          "data": {
            "text/plain": [
              "-104.0"
            ]
          },
          "metadata": {
            "tags": []
          },
          "execution_count": 67
        }
      ]
    },
    {
      "cell_type": "markdown",
      "metadata": {
        "id": "IzrO5vsNdjSD"
      },
      "source": [
        "### Mangnetization"
      ]
    },
    {
      "cell_type": "markdown",
      "metadata": {
        "id": "-Jd-9Jn-djSG"
      },
      "source": [
        "One can calculate magnetization by simply taking average over all spins:"
      ]
    },
    {
      "cell_type": "code",
      "metadata": {
        "id": "9SeU3PDUdjSJ"
      },
      "source": [
        "def magnetization(U):\n",
        "    return np.array(U).sum()/float((len(U)*len(U)*len(U)))          "
      ],
      "execution_count": 68,
      "outputs": []
    },
    {
      "cell_type": "code",
      "metadata": {
        "id": "D05eM-aFdjST",
        "outputId": "e96c93fb-4ce3-42a6-b2de-c1cf8af0885b",
        "colab": {
          "base_uri": "https://localhost:8080/"
        }
      },
      "source": [
        "magnetization(HU)"
      ],
      "execution_count": 69,
      "outputs": [
        {
          "output_type": "execute_result",
          "data": {
            "text/plain": [
              "0.026"
            ]
          },
          "metadata": {
            "tags": []
          },
          "execution_count": 69
        }
      ]
    },
    {
      "cell_type": "code",
      "metadata": {
        "id": "dD9umF_idjSh",
        "outputId": "55fe803c-e6da-45a9-d9b9-a8736d9b4a7e",
        "colab": {
          "base_uri": "https://localhost:8080/"
        }
      },
      "source": [
        "magnetization(CU)"
      ],
      "execution_count": 70,
      "outputs": [
        {
          "output_type": "execute_result",
          "data": {
            "text/plain": [
              "1.0"
            ]
          },
          "metadata": {
            "tags": []
          },
          "execution_count": 70
        }
      ]
    },
    {
      "cell_type": "markdown",
      "metadata": {
        "id": "cV8rMGu3djSs"
      },
      "source": [
        "### Spin Flipper"
      ]
    },
    {
      "cell_type": "code",
      "metadata": {
        "id": "AjIomJZbdjSu"
      },
      "source": [
        "def ld(k,L):\n",
        "    if k == 0:\n",
        "        return L\n",
        "    else: return 0"
      ],
      "execution_count": 71,
      "outputs": []
    },
    {
      "cell_type": "code",
      "metadata": {
        "id": "phBQx3y2djS2"
      },
      "source": [
        "def spin_flipper(U,B, printkey):\n",
        "        L = len(U)\n",
        "        \n",
        "        i = random.randint(0, L-1) \n",
        "        j = random.randint(0, L-1)\n",
        "        r = random.randint(0, L-1)\n",
        "       \n",
        "        if printkey ==1:print(\"flipped at\", i,j,r)\n",
        "            \n",
        "        U[i][j][r] = -U[i][j][r]\n",
        "       \n",
        "           \n",
        "        dH =  -2.0*JJ*U[i][j][r]*(U[i][(j-1)+ld(j,L)][r] \\\n",
        "                            + U[(i+1)%L][j][r] \\\n",
        "                            + U[i][(j+1)%L][r] \\\n",
        "                            + U[(i-1)+ld(i,L)][j][r] \\\n",
        "                            + U[i][j][(r+1)%L] \\\n",
        "                            + U[i][j][(r-1)+ld(r,L)]) \\\n",
        "                            - 2.0*mu*B*U[i][j][r]   \n",
        "        \n",
        "        return U,dH,i,j,r"
      ],
      "execution_count": 72,
      "outputs": []
    },
    {
      "cell_type": "markdown",
      "metadata": {
        "id": "6S3JNwzBdjS-"
      },
      "source": [
        "### Thermalization"
      ]
    },
    {
      "cell_type": "code",
      "metadata": {
        "id": "J_3YLn6PdjS_"
      },
      "source": [
        "def Thermalization(U,T,nrun,printkey) :\n",
        "        M = [0.0 for k in range(nrun)]\n",
        "        irun = 0       \n",
        "        B = 0.0\n",
        "        HH = [0.0 for k in range(nrun)]\n",
        "       \n",
        "        while irun < nrun:\n",
        "                    V = U\n",
        "                    w = magnetization(U)\n",
        "                    h = Hamiltonian(U,B)\n",
        "                    \n",
        "                    U,dH,p,q,l = spin_flipper(U,B,printkey)\n",
        "                   \n",
        "                   \n",
        "                    if dH < 0:\n",
        "                        \n",
        "                        if printkey ==1: print(irun, \"E decreased! You are accepted !\",dH)\n",
        "                            \n",
        "                        M[irun] = magnetization(U)\n",
        "                        HH[irun] = Hamiltonian(U,B)\n",
        "                       \n",
        "                    else:\n",
        "                        \n",
        "                        if printkey ==1:print(irun, \"E increased!\",dH)\n",
        "                            \n",
        "                        frac = math.exp(-dH/(Kb*T))\n",
        "                        b = random.uniform(0.0,1.0)\n",
        "                            \n",
        "                        if printkey ==1:print(\"frac =\",frac,\"b=\",b,\"dH = \",dH)\n",
        "                                \n",
        "                        if  b < frac:\n",
        "                                    \n",
        "                            if printkey ==1:print(irun, \" You Lucky!\")\n",
        "                                \n",
        "                            M[irun] = magnetization(U)\n",
        "                            HH[irun] = Hamiltonian(U,B)\n",
        "                             \n",
        "                        else:\n",
        "                            if printkey ==1: print(irun, \"Loser!\")\n",
        "                            if printkey ==1: print(\"spin restablished at\",p,q,l)\n",
        "                            U[p][q][l] = -U[p][q][l]\n",
        "                            M[irun] = w \n",
        "                            HH[irun] = h\n",
        "                           \n",
        "                            \n",
        "                    for i in range(L):\n",
        "                        for j in range(L):\n",
        "                            for r in range(L):\n",
        "                                if U[i][j][r] != V[i][i][r]:\n",
        "                                     if printkey ==1: print(\"Warning!spin is changed!\", i,j,r) \n",
        "                            \n",
        "                    \n",
        "                    \n",
        "                    \n",
        "                    if printkey ==2 : print(irun, M[irun])   \n",
        "                    irun = irun +1\n",
        "        return M,U,HH"
      ],
      "execution_count": 73,
      "outputs": []
    },
    {
      "cell_type": "markdown",
      "metadata": {
        "id": "FriKOANqdjTF"
      },
      "source": [
        "Lets print out some measurements of m"
      ]
    },
    {
      "cell_type": "code",
      "metadata": {
        "scrolled": false,
        "id": "_z84J1a9djTH",
        "outputId": "ff8320cf-82f2-45e9-ccba-c6db1fa02aea",
        "colab": {
          "base_uri": "https://localhost:8080/"
        }
      },
      "source": [
        "nrun = 20\n",
        "T = 1.0\n",
        "L = 10\n",
        "U = cold_start(L)  \n",
        "M,U,HH = Thermalization(U,T,nrun, 1)"
      ],
      "execution_count": 74,
      "outputs": [
        {
          "output_type": "stream",
          "text": [
            "flipped at 7 7 4\n",
            "0 E increased! 12.0\n",
            "frac = 6.14421235332821e-06 b= 0.8758720931108844 dH =  12.0\n",
            "0 Loser!\n",
            "spin restablished at 7 7 4\n",
            "flipped at 9 7 7\n",
            "1 E increased! 12.0\n",
            "frac = 6.14421235332821e-06 b= 0.5466830464381338 dH =  12.0\n",
            "1 Loser!\n",
            "spin restablished at 9 7 7\n",
            "flipped at 5 4 8\n",
            "2 E increased! 12.0\n",
            "frac = 6.14421235332821e-06 b= 0.6620537481282538 dH =  12.0\n",
            "2 Loser!\n",
            "spin restablished at 5 4 8\n",
            "flipped at 4 9 4\n",
            "3 E increased! 12.0\n",
            "frac = 6.14421235332821e-06 b= 0.0767940984955311 dH =  12.0\n",
            "3 Loser!\n",
            "spin restablished at 4 9 4\n",
            "flipped at 4 8 9\n",
            "4 E increased! 12.0\n",
            "frac = 6.14421235332821e-06 b= 0.2753633382695324 dH =  12.0\n",
            "4 Loser!\n",
            "spin restablished at 4 8 9\n",
            "flipped at 5 3 2\n",
            "5 E increased! 12.0\n",
            "frac = 6.14421235332821e-06 b= 0.5878649178396245 dH =  12.0\n",
            "5 Loser!\n",
            "spin restablished at 5 3 2\n",
            "flipped at 0 0 6\n",
            "6 E increased! 12.0\n",
            "frac = 6.14421235332821e-06 b= 0.6355004562400514 dH =  12.0\n",
            "6 Loser!\n",
            "spin restablished at 0 0 6\n",
            "flipped at 7 6 3\n",
            "7 E increased! 12.0\n",
            "frac = 6.14421235332821e-06 b= 0.6832504236941455 dH =  12.0\n",
            "7 Loser!\n",
            "spin restablished at 7 6 3\n",
            "flipped at 3 0 0\n",
            "8 E increased! 12.0\n",
            "frac = 6.14421235332821e-06 b= 0.7042700876891828 dH =  12.0\n",
            "8 Loser!\n",
            "spin restablished at 3 0 0\n",
            "flipped at 5 4 1\n",
            "9 E increased! 12.0\n",
            "frac = 6.14421235332821e-06 b= 0.4880500140169285 dH =  12.0\n",
            "9 Loser!\n",
            "spin restablished at 5 4 1\n",
            "flipped at 8 2 2\n",
            "10 E increased! 12.0\n",
            "frac = 6.14421235332821e-06 b= 0.03736423829364177 dH =  12.0\n",
            "10 Loser!\n",
            "spin restablished at 8 2 2\n",
            "flipped at 6 3 7\n",
            "11 E increased! 12.0\n",
            "frac = 6.14421235332821e-06 b= 0.3741974829399526 dH =  12.0\n",
            "11 Loser!\n",
            "spin restablished at 6 3 7\n",
            "flipped at 0 1 6\n",
            "12 E increased! 12.0\n",
            "frac = 6.14421235332821e-06 b= 0.1932007226323199 dH =  12.0\n",
            "12 Loser!\n",
            "spin restablished at 0 1 6\n",
            "flipped at 2 1 1\n",
            "13 E increased! 12.0\n",
            "frac = 6.14421235332821e-06 b= 0.4390684247002544 dH =  12.0\n",
            "13 Loser!\n",
            "spin restablished at 2 1 1\n",
            "flipped at 6 1 2\n",
            "14 E increased! 12.0\n",
            "frac = 6.14421235332821e-06 b= 0.47159831956094844 dH =  12.0\n",
            "14 Loser!\n",
            "spin restablished at 6 1 2\n",
            "flipped at 1 0 6\n",
            "15 E increased! 12.0\n",
            "frac = 6.14421235332821e-06 b= 0.38012904677280956 dH =  12.0\n",
            "15 Loser!\n",
            "spin restablished at 1 0 6\n",
            "flipped at 3 2 3\n",
            "16 E increased! 12.0\n",
            "frac = 6.14421235332821e-06 b= 0.0371687386736409 dH =  12.0\n",
            "16 Loser!\n",
            "spin restablished at 3 2 3\n",
            "flipped at 8 6 9\n",
            "17 E increased! 12.0\n",
            "frac = 6.14421235332821e-06 b= 0.6468863735211626 dH =  12.0\n",
            "17 Loser!\n",
            "spin restablished at 8 6 9\n",
            "flipped at 9 8 7\n",
            "18 E increased! 12.0\n",
            "frac = 6.14421235332821e-06 b= 0.11321750202618663 dH =  12.0\n",
            "18 Loser!\n",
            "spin restablished at 9 8 7\n",
            "flipped at 1 9 0\n",
            "19 E increased! 12.0\n",
            "frac = 6.14421235332821e-06 b= 0.6160081806417416 dH =  12.0\n",
            "19 Loser!\n",
            "spin restablished at 1 9 0\n"
          ],
          "name": "stdout"
        }
      ]
    },
    {
      "cell_type": "code",
      "metadata": {
        "id": "OoMCqNjsdjTR",
        "outputId": "153d2f4a-34ab-4663-8f92-c1807ee43b08",
        "colab": {
          "base_uri": "https://localhost:8080/",
          "height": 377
        }
      },
      "source": [
        "L = 20\n",
        "nrun = 10000\n",
        "T = 2.4\n",
        "U = cold_start(L) \n",
        "M,U,HH = Thermalization(U,T,nrun, 0)\n",
        "X = np.arange(0,len(M),1)\n",
        "plt.figure(figsize = [15,6])\n",
        "plt.plot(X,M,\"-\")\n",
        "plt.show() "
      ],
      "execution_count": 75,
      "outputs": [
        {
          "output_type": "display_data",
          "data": {
            "image/png": "[encoded data removed]",
            "text/plain": [
              "<Figure size 1080x432 with 1 Axes>"
            ]
          },
          "metadata": {
            "tags": []
          }
        }
      ]
    },
    {
      "cell_type": "markdown",
      "metadata": {
        "id": "IcG6PxQxdjTX"
      },
      "source": [
        "We can plot both run with hot and cold start together:"
      ]
    },
    {
      "cell_type": "code",
      "metadata": {
        "id": "oayaEV9bdjTZ",
        "outputId": "98e9196c-0f14-4e99-c46b-64f969b8b472",
        "colab": {
          "base_uri": "https://localhost:8080/",
          "height": 377
        }
      },
      "source": [
        "L =20\n",
        "nrun = 10000\n",
        "T = 5.0\n",
        "U1 = cold_start(L) \n",
        "U2 = hot_start(L)\n",
        "M1,U1,HH = Thermalization(U1,T,nrun,0)\n",
        "M2,U2,HH = Thermalization(U2,T,nrun,0)\n",
        "X = np.arange(0,len(M1),1)\n",
        "\n",
        "plt.figure(figsize = [15,6])\n",
        "plt.plot(X,M1,\"-\")\n",
        "plt.plot(X,M2,\"-\")\n",
        "plt.show()\n"
      ],
      "execution_count": 76,
      "outputs": [
        {
          "output_type": "display_data",
          "data": {
            "image/png": "[encoded data removed]",
            "text/plain": [
              "<Figure size 1080x432 with 1 Axes>"
            ]
          },
          "metadata": {
            "tags": []
          }
        }
      ]
    },
    {
      "cell_type": "markdown",
      "metadata": {
        "id": "DhBZZD52djTi"
      },
      "source": [
        "### Phase Transition"
      ]
    },
    {
      "cell_type": "code",
      "metadata": {
        "id": "6qk3Vk_bdjTk"
      },
      "source": [
        "L = 10\n",
        "nrun = 3000\n",
        "Tn = 100\n",
        "avm = []\n",
        "stdh = []\n",
        "KT = []\n",
        "\n",
        "for t in range(1,Tn+1):\n",
        "        T = 0.1*t\n",
        "        KT.append(T)\n",
        "        U = cold_start(L)\n",
        "        M,U,HH = Thermalization(U,T,nrun,0)\n",
        "        nM = M[1000:nrun-1]\n",
        "        nH = HH[1000:nrun-1]\n",
        "        stdh.append(np.std(nH))\n",
        "        avm.append(np.mean(nM))"
      ],
      "execution_count": 77,
      "outputs": []
    },
    {
      "cell_type": "code",
      "metadata": {
        "id": "2zDsqj7jdjTr",
        "outputId": "678b7dec-d8a7-47b1-8ec5-f50e185d6b73",
        "colab": {
          "base_uri": "https://localhost:8080/",
          "height": 502
        }
      },
      "source": [
        "plt.figure(figsize = [10,8])\n",
        "plt.scatter(KT,avm)\n",
        "plt.xlabel(\"Temperature\")\n",
        "plt.ylabel(\"Average magnetization\")\n",
        "plt.show() "
      ],
      "execution_count": 78,
      "outputs": [
        {
          "output_type": "display_data",
          "data": {
            "image/png": "[encoded data removed]",
            "text/plain": [
              "<Figure size 720x576 with 1 Axes>"
            ]
          },
          "metadata": {
            "tags": []
          }
        }
      ]
    },
    {
      "cell_type": "markdown",
      "metadata": {
        "id": "Y5PGViHodjT1"
      },
      "source": [
        "#### Specific Heat Capacity"
      ]
    },
    {
      "cell_type": "code",
      "metadata": {
        "id": "VDfDhrhhdjT6",
        "outputId": "814bbbc7-1c6f-4096-81c4-30e72310c57f",
        "colab": {
          "base_uri": "https://localhost:8080/",
          "height": 502
        }
      },
      "source": [
        "plt.figure(figsize = [10,8])\n",
        "plt.scatter(KT,stdh)\n",
        "plt.xlabel(\"Temperature\")\n",
        "plt.ylabel(\"Specific Heat Capacity\")\n",
        "plt.show() "
      ],
      "execution_count": 79,
      "outputs": [
        {
          "output_type": "display_data",
          "data": {
            "image/png": "[encoded data removed]",
            "text/plain": [
              "<Figure size 720x576 with 1 Axes>"
            ]
          },
          "metadata": {
            "tags": []
          }
        }
      ]
    },
    {
      "cell_type": "markdown",
      "metadata": {
        "id": "tZqj18hydjUQ"
      },
      "source": [
        "### References\n",
        "\n",
        "1. http://micro.stanford.edu/~caiwei/me334/Chap12_Ising_Model_v04.pdf\n",
        "2. http://physics.drexel.edu/~valliere/PHYS305/Monte_Carlo/Monte_Carlo_story/node12.html\n",
        "3. https://www.ibiblio.org/e-notes/Perc/ising.htm\n",
        "4. https://arxiv.org/abs/2002.00615\n",
        "5. http://farside.ph.utexas.edu/teaching/329/lectures/node110.html"
      ]
    },
    {
      "cell_type": "code",
      "metadata": {
        "id": "kWIftr5-djUQ"
      },
      "source": [
        ""
      ],
      "execution_count": null,
      "outputs": []
    }
  ]
}